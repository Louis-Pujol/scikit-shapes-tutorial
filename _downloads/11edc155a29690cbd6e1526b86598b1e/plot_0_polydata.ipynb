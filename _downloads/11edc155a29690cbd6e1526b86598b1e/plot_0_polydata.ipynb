{
  "cells": [
    {
      "cell_type": "code",
      "execution_count": null,
      "metadata": {
        "collapsed": false
      },
      "outputs": [],
      "source": [
        "%matplotlib inline"
      ]
    },
    {
      "cell_type": "markdown",
      "metadata": {},
      "source": [
        "\n# The `PolyData` class: point cloud, wireframe and triangle meshes\n\nThis notebook describes the `PolyData` class, the common class for point clouds, wireframe and triangle meshes.\n\n- Load and create `PolyData`\n- Plot `PolyData` with PyVista\n- Add a signal\n- Add landmarks\n- Add control points\n- Save the object and load it back\n"
      ]
    },
    {
      "cell_type": "markdown",
      "metadata": {},
      "source": [
        "`PolyData` creation\n -------------------\n\n\u00a0Two ways to create a `PolyData` object:\n - from a file\n - explicitely with `points`, `edges` (optional), `triangles` (optional)\n - plotting with PyVista\n\n"
      ]
    },
    {
      "cell_type": "code",
      "execution_count": null,
      "metadata": {
        "collapsed": false
      },
      "outputs": [],
      "source": [
        "import skshapes as sks\nimport pyvista as pv\n\ncpos = [(-1.6657788922829617, 7.472045340108491, 3.9439767221656665),\n (0.8380894707515836, -0.003572508692741394, -0.002311795949935913),\n (0.9587598899863243, 0.2457800580099367, 0.14272924170625823)]\n\n\n#\u00a0Load a mesh from a .ply file\nmesh = sks.PolyData(\"data/mesh044.ply\")\n\n# Extract the points, edges and triangles from the mesh\npoints, edges, triangles = mesh.points, mesh.edges, mesh.triangles\n\n# Create a point cloud, a wireframe and a surface mesh from the points, edges and triangles\npoints_cloud = sks.PolyData(points=points)\nwireframe_mesh = sks.PolyData(points=points, edges=edges)\nsurface_mesh = sks.PolyData(points=points, triangles=triangles)\n\n# Create a plotter with 3 subplots and display the point cloud, wireframe and surface mesh\n#\u00a0PolyData objects can be converted to pyvista objects with the to_pyvista method\nimport pyvista as pv\nplotter = pv.Plotter(shape=(1, 3))\nplotter.subplot(0, 0)\nplotter.add_text(\"Points cloud\", font_size=24)\nplotter.add_mesh(points_cloud.to_pyvista(), color=\"red\", render_points_as_spheres=True)\nplotter.camera_position = cpos\nplotter.subplot(0, 1)\nplotter.add_text(\"Wireframe\", font_size=24)\nplotter.add_mesh(wireframe_mesh.to_pyvista(), color=\"k\", line_width=2)\nplotter.camera_position = cpos\nplotter.subplot(0, 2)\nplotter.add_text(\"Triangle mesh\", font_size=24)\nplotter.add_mesh(surface_mesh.to_pyvista(), color=\"tan\")\nplotter.camera_position = cpos\nplotter.show()"
      ]
    },
    {
      "cell_type": "markdown",
      "metadata": {},
      "source": [
        "## Add signals to the `PolyData`\n\n- Signals can be added to the PolyData object through `point_data`, `edge_data` or `triangle_data`.\n- The size of the array in the first dimension is expected to match `n_points`, `n_edges` or`n_triangles`.\n\n"
      ]
    },
    {
      "cell_type": "code",
      "execution_count": null,
      "metadata": {
        "collapsed": false
      },
      "outputs": [],
      "source": [
        "import torch\n\n#\u00a0Add some user-defined data to the mesh\nsurface_mesh.triangle_data[\"signal_triangles\"] = torch.rand(surface_mesh.n_triangles, 3)\nsurface_mesh.edge_data[\"signal_edges\"] = torch.rand(surface_mesh.n_edges, 3, 3)\nsurface_mesh.point_data[\"signal_points\"] = surface_mesh.points[:, 0]\n\n#\u00a0Some features are already available in the mesh object\nsurface_mesh.triangle_data[\"centers\"] = surface_mesh.triangle_centers\nsurface_mesh.triangle_data[\"areas\"] = surface_mesh.triangle_areas\nsurface_mesh.edge_data[\"centers\"] = surface_mesh.edge_centers\nsurface_mesh.edge_data[\"lengths\"] = surface_mesh.edge_lengths\n\n#\u00a0Call the plot method display information about the signal data (size, type, device)\nprint(\"Triangle_data:\")\nprint(surface_mesh.triangle_data)\n\n#\u00a0Point_data can be used in the plot method to color the surface mesh\nsurface_mesh.plot(scalars=\"signal_points\", cpos=cpos)"
      ]
    },
    {
      "cell_type": "markdown",
      "metadata": {},
      "source": [
        "## Add landmarks to the `PolyData`\n\n- Landmarks are distinguished points of the `PolyData`\n- They can be selected via an interactive application (using vedo)\n- Landmarks can be accessed as `(n_landmarks, 3)` tensors or list of indices\n\n"
      ]
    },
    {
      "cell_type": "code",
      "execution_count": null,
      "metadata": {
        "collapsed": false
      },
      "outputs": [],
      "source": [
        "if not pv.BUILDING_GALLERY:\n    #\u00a0If not in the gallery, we can use vedo to open the landmark setter\n    #\u00a0Setting the default backend to vtk is necessary when running in a notebook\n    import vedo\n    vedo.settings.default_backend= 'vtk'\n    sks.LandmarkSetter(surface_mesh).start()\nelse:\n    #\u00a0Set the landmarks manually\n    surface_mesh.landmark_indices = [122,  82,  89,  28,  27]\n\nplotter = pv.Plotter()\nplotter.add_mesh(surface_mesh.to_pyvista(), color=\"tan\")\nplotter.add_points(surface_mesh.landmark_points.numpy(), color=\"red\", point_size=10, render_points_as_spheres=True)\nplotter.camera_position = cpos\nplotter.add_title(f\"Landmarks : {surface_mesh.landmark_indices}\")\nplotter.show()"
      ]
    },
    {
      "cell_type": "markdown",
      "metadata": {},
      "source": [
        "## Control points\n\n- Control points are represented by another `PolyData`, attached to the first\n- The `bounding_grid` method offers a standard way to define control points as regular grids\n\n"
      ]
    },
    {
      "cell_type": "code",
      "execution_count": null,
      "metadata": {
        "collapsed": false
      },
      "outputs": [],
      "source": [
        "surface_mesh.control_points = surface_mesh.bounding_grid(N=10, offset=0.05)\n\nplotter = pv.Plotter()\nplotter.add_mesh(surface_mesh.to_pyvista(), color=\"tan\")\nplotter.add_mesh(surface_mesh.control_points.to_pyvista(), color=\"green\", opacity=0.9)\nplotter.camera_position = cpos\nplotter.show()"
      ]
    },
    {
      "cell_type": "markdown",
      "metadata": {},
      "source": [
        "## Save and load\n\n- `PolyData` can be saved to the disk\n- If the file format is `.vtk`, signals and landmarks persist when loaded back\n- it is also possible to save in `.stl` or `.obj` but signals/landmarks will be lost\n- Control points must be saved separately\n\n"
      ]
    },
    {
      "cell_type": "code",
      "execution_count": null,
      "metadata": {
        "collapsed": false
      },
      "outputs": [],
      "source": [
        "extension = \".vtk\"\n\nimport os\nfilename_mesh = \"tmp\" + extension\nfilename_control_points = \"tmp_control_points\" + extension\n\nsurface_mesh.save(filename_mesh)\nsurface_mesh.control_points.save(filename_control_points)\n\nloaded_mesh = sks.PolyData(filename_mesh)\nloaded_mesh.control_points = sks.PolyData(filename_control_points)\n\nplotter = pv.Plotter()\nplotter.add_mesh(loaded_mesh.to_pyvista(), scalars=\"signal_points\", cmap=\"viridis\")\nplotter.add_points(loaded_mesh.landmark_points.numpy(), color=\"red\", point_size=10, render_points_as_spheres=True)\nplotter.add_mesh(loaded_mesh.control_points.to_pyvista(), color=\"green\", opacity=0.9)\nplotter.camera_position = cpos\nplotter.add_title(f\"Landmarks : {loaded_mesh.landmark_indices}\")\nplotter.show()\n\nprint(\"Triangle_data:\")\nprint(loaded_mesh.triangle_data)\n\nos.remove(filename_mesh)\nos.remove(filename_control_points)"
      ]
    }
  ],
  "metadata": {
    "kernelspec": {
      "display_name": "Python 3",
      "language": "python",
      "name": "python3"
    },
    "language_info": {
      "codemirror_mode": {
        "name": "ipython",
        "version": 3
      },
      "file_extension": ".py",
      "mimetype": "text/x-python",
      "name": "python",
      "nbconvert_exporter": "python",
      "pygments_lexer": "ipython3",
      "version": "3.11.8"
    }
  },
  "nbformat": 4,
  "nbformat_minor": 0
}