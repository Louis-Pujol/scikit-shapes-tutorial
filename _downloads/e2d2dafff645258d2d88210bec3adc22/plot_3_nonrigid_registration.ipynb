{
  "cells": [
    {
      "cell_type": "code",
      "execution_count": null,
      "metadata": {
        "collapsed": false
      },
      "outputs": [],
      "source": [
        "%matplotlib inline"
      ]
    },
    {
      "cell_type": "markdown",
      "metadata": {},
      "source": [
        "\n# The `Registration` class: nonrigid registration\n\nThis notebook is an example of nonrigid registration with the registration class.\nWe apply nonrigid registration to a pair of 2D shapes with the same topology.\n"
      ]
    },
    {
      "cell_type": "markdown",
      "metadata": {},
      "source": [
        "## Generate data\n\n\n"
      ]
    },
    {
      "cell_type": "code",
      "execution_count": null,
      "metadata": {
        "collapsed": false
      },
      "outputs": [],
      "source": [
        "#\u00a0%%\nimport skshapes as sks\nimport pyvista as pv\nimport torch\n\n\ncpos1 = [\n    (4.707106828689575, 4.79289323091507, 28.44947380182544),\n    (4.707106828689575, 4.79289323091507, 0.0),\n    (0.0, 1.0, 0.0),\n]\n\ncpos2 = [\n    (3.2928932309150696, 4.792893171310425, 28.44947390345415),\n    (3.2928932309150696, 4.792893171310425, 0.0),\n    (0.0, 1.0, 0.0),\n]\n\ndef load_data():\n    import math\n    sqrt2 = math.sqrt(2)\n    edges = torch.tensor(\n        [\n            [0, 1],\n            [1, 2],\n            [2, 3],\n            [1, 4],\n            [4, 5],\n            [1, 6],\n            [6, 7],\n            [7, 8],\n            [6, 9],\n            [9, 10],\n        ]\n    )\n\n    x1 = torch.tensor(\n        [\n            [4, 9],\n            [4, 7],\n            [2, 7],\n            [1.95, 6],\n            [6, 7],\n            [6.05, 8],\n            [4, 4],\n            [4 - sqrt2, 4 - sqrt2],\n            [4 - sqrt2, 2 - sqrt2],\n            [4 + sqrt2, 4 + sqrt2],\n            [6 + sqrt2, 4 + sqrt2],\n        ],\n        dtype=torch.float32,\n    )\n\n    x2 = torch.tensor(\n        [\n            [4, 9],\n            [4, 7],\n            [2, 7],\n            [1.95, 8],\n            [6, 7],\n            [6.05, 6],\n            [4, 4],\n            [2, 4],\n            [2 - sqrt2, 4 - sqrt2],\n            [4 + sqrt2, 4 - sqrt2],\n            [4 + sqrt2, 2 - sqrt2],\n        ],\n        dtype=torch.float32,\n    )\n\n    polydata1 = sks.PolyData(x1, edges=edges)\n    polydata2 = sks.PolyData(x2, edges=edges)\n\n    return polydata1, polydata2\n\nsource, target = load_data()\n\nplotter = pv.Plotter(shape=(1, 2), border=False)\n\nplotter.subplot(0, 0)\nplotter.add_mesh(\n    source.to_pyvista(), show_edges=True, line_width=5, color=\"k\"\n)\nplotter.add_text(\"Source\")\nplotter.camera_position = cpos1\n\nplotter.subplot(0, 1)\nplotter.add_mesh(\n    target.to_pyvista(), show_edges=True, line_width=5, color=\"k\"\n)\nplotter.add_text(\"Target\")\nplotter.camera_position = cpos2\n\nplotter.show()"
      ]
    },
    {
      "cell_type": "markdown",
      "metadata": {},
      "source": [
        "## Register with `ExtrinsicDeformation`\n\n[(Draft) documentation](https://scikit-shapes.github.io/scikit-shapes/user_guide/3_multiple_shapes/a_registration/extrinsic_deformation/)\n\n"
      ]
    },
    {
      "cell_type": "code",
      "execution_count": null,
      "metadata": {
        "collapsed": false
      },
      "outputs": [],
      "source": [
        "source.control_points = source.bounding_grid(N=10, offset=0.05)\n\nmodel = sks.ExtrinsicDeformation(\n    n_steps=8,\n    kernel=sks.GaussianKernel(sigma=1.0),\n    control_points=True,\n)\n\nregistration = sks.Registration(\n    model=model,\n    loss=sks.L2Loss(),\n    optimizer=sks.LBFGS(),\n    n_iter=5,\n    verbose=True,\n    regularization_weight=0.1\n    )\n\nregistration.fit(source=source, target=target)\n\npath = registration.path_\npath_cp = model.morph(\n    shape=source.control_points,\n    parameter=registration.parameter_,\n    return_path = True\n    ).path\n\n\nn_frames = len(path)\n\nplotter = pv.Plotter()\nplotter.open_gif(\"extrinsic_deformation.gif\", fps=3)\nplotter.camera_position = cpos1\nfor i in range(n_frames):\n    plotter.clear_actors()\n    plotter.add_mesh(\n        path_cp[i].to_pyvista(),\n        show_edges=True,\n        line_width=2,\n        color=\"r\",\n    )\n    plotter.add_mesh(\n        path[i].to_pyvista(), show_edges=True, line_width=5, color=\"k\"\n    )\n    plotter.add_mesh(\n        target.to_pyvista(),\n        show_edges=True,\n        line_width=5,\n        color=\"b\",\n        opacity=0.2,\n    )\n    plotter.write_frame()\n\nplotter.show()"
      ]
    },
    {
      "cell_type": "markdown",
      "metadata": {},
      "source": [
        "## Register with `IntrinsicDeformation`\n\n\u00a0[(Draft) documentation](https://scikit-shapes.github.io/scikit-shapes/user_guide/3_multiple_shapes/a_registration/intrinsic_deformation/)\n\n"
      ]
    },
    {
      "cell_type": "code",
      "execution_count": null,
      "metadata": {
        "collapsed": false
      },
      "outputs": [],
      "source": [
        "import numpy as np\nsource.control_points = source.bounding_grid(N=10, offset=0.05)\n\nmodel = sks.IntrinsicDeformation(\n    n_steps=8,\n    metric=sks.AsIsometricAsPossible(),\n)\n\nregistration = sks.Registration(\n    model=model,\n    loss=sks.L2Loss(),\n    optimizer=sks.LBFGS(),\n    n_iter=5,\n    verbose=True,\n    regularization_weight=500\n    )\n\nregistration.fit(source=source, target=target)\n\npath = registration.path_\nvelocities = registration.parameter_\n\nplotter = pv.Plotter()\nplotter.camera_position = cpos1\nplotter.open_gif(\"intrinsic_deformation.gif\", fps=3)\nfor i in range(len(path)):\n    plotter.clear_actors()\n    plotter.add_mesh(\n        path[i].to_pyvista(), show_edges=True, line_width=5, color=\"k\"\n    )\n    plotter.add_mesh(\n        target.to_pyvista(),\n        show_edges=True,\n        line_width=5,\n        color=\"b\",\n        opacity=0.2,\n    )\n    if i < len(path) - 1:\n        mesh = path[i].to_pyvista()\n        mesh[\"v\"] = np.concatenate(\n            [\n                velocities[:, i, :].detach().cpu().numpy(),\n                np.zeros(shape=(source.n_points, 1)),\n            ],\n            axis=1,\n        )\n        mesh.active_vectors_name = \"v\"\n        arrows = mesh.arrows\n\n        plotter.add_mesh(arrows, color=\"r\", line_width=5)\n    plotter.write_frame()\n\nplotter.show()"
      ]
    }
  ],
  "metadata": {
    "kernelspec": {
      "display_name": "Python 3",
      "language": "python",
      "name": "python3"
    },
    "language_info": {
      "codemirror_mode": {
        "name": "ipython",
        "version": 3
      },
      "file_extension": ".py",
      "mimetype": "text/x-python",
      "name": "python",
      "nbconvert_exporter": "python",
      "pygments_lexer": "ipython3",
      "version": "3.11.8"
    }
  },
  "nbformat": 4,
  "nbformat_minor": 0
}