{
  "cells": [
    {
      "cell_type": "code",
      "execution_count": null,
      "metadata": {
        "collapsed": false
      },
      "outputs": [],
      "source": [
        "%matplotlib inline"
      ]
    },
    {
      "cell_type": "markdown",
      "metadata": {},
      "source": [
        "\n# The `Registration` class: rigid alignment\n\nThis notebook is a first example with the registration class. We apply rigid\nregistration to a pair of 3D shapes with different topologies.\n\nA registration is defined by :\n\n- a model: the model defines the transformation to apply to the source shape ($\\text{morph}$) and an associated regularization term ($\\text{reg}$)\n- a loss: the loss function measures the discrepency between the target shape and the transformed source shape.\n- a weight for the regularization term: $\\lambda$:.\n\nIf $X$ is the source shape, $Y$ the target shape, the criterion to optimize is:\n\n\\begin{align}\\text{loss}(\\text{morph}(X), Y) + \\lambda \\times \\text{reg}(\\text{morph})\\end{align}\n\nThe other parameters are the optimizer, the number of iterations and the verbosity level.\n"
      ]
    },
    {
      "cell_type": "markdown",
      "metadata": {},
      "source": [
        "## Load and preprocess data\n\nLoad two triangle meshes from pyvista examples and rescale them to fit in the\nunit box.\n\n\n"
      ]
    },
    {
      "cell_type": "code",
      "execution_count": null,
      "metadata": {
        "collapsed": false
      },
      "outputs": [],
      "source": [
        "import pykeops\nimport pyvista as pv\nimport torch\nfrom pyvista import examples\n\nimport skshapes as sks\n\ncolor_1 = 'tan'\ncolor_2 = 'brown'\n\n# shape1 = sks.PolyData(examples.download_human())\nshape1 = sks.PolyData(examples.download_woman().rotate_y(90))\nshape2 = sks.PolyData(examples.download_doorman())\nshape1.point_data.clear()\nshape2.point_data.clear()\n\ndef bounds(shape):\n    return torch.max(shape.points, dim=0).values - torch.min(shape.points, dim=0).values\n\nlims1 = bounds(shape1)\nlims2 = bounds(shape2)\nrescale1 = torch.max(lims1)\nshape1.points -= torch.min(shape1.points, dim=0).values\nshape1.points /= rescale1\n\nrescale2 = torch.max(lims2)\nshape2.points -= torch.min(shape2.points, dim=0).values\nshape2.points /= rescale2\n\nplotter = pv.Plotter()\nplotter.add_mesh(shape1.to_pyvista(), color=color_1)\nplotter.add_mesh(shape2.to_pyvista(), color=color_2)\n\nplotter.show()"
      ]
    },
    {
      "cell_type": "markdown",
      "metadata": {},
      "source": [
        "## Run rigid registration\n\n\u00a0As points are not ordered in the same way in the two shapes, we use the `sks.NearestNeighborsLoss`,\n\u00a0it is the mean L2 distance between the closest points in the two shapes. Another possibility\n\u00a0is to use the `sks.OptimalTransportLoss` which adds a term to the loss function to minimize the distance\n\n"
      ]
    },
    {
      "cell_type": "code",
      "execution_count": null,
      "metadata": {
        "collapsed": false
      },
      "outputs": [],
      "source": [
        "loss = sks.NearestNeighborsLoss()\nmodel = sks.RigidMotion()\n\nregistration = sks.Registration(\n    model=model,\n    loss=loss,\n    n_iter=2,\n    verbose=True,\n) #\u00a0default optimizer is torch.optim.LBFGS\n\nregistration.fit(source=shape2, target=shape1)\nmorph = registration.transform(source=shape2)\n\nplotter = pv.Plotter()\nplotter.add_mesh(shape1.to_pyvista(), color=color_1)\nplotter.add_mesh(morph.to_pyvista(), color=color_2)\nplotter.show()"
      ]
    },
    {
      "cell_type": "markdown",
      "metadata": {},
      "source": [
        "## Add landmarks\n\nThe registration did not work well. Shapes were matched upside down.\nWith a few landmarks we can help the registration algorithm to find a better transformation.\n\n"
      ]
    },
    {
      "cell_type": "code",
      "execution_count": null,
      "metadata": {
        "collapsed": false
      },
      "outputs": [],
      "source": [
        "#\u00a0%%\nif not pv.BUILDING_GALLERY:\n    #\u00a0If not in the gallery, we can use vedo to open the landmark setter\n    #\u00a0Setting the default backend to vtk is necessary when running in a notebook\n    import vedo\n    vedo.settings.default_backend= 'vtk'\n    sks.LandmarkSetter([shape1, shape2]).start()\nelse:\n    #\u00a0Set the landmarks manually\n    landmarks1 = [4808, 147742, 1774]\n    landmarks2 = [325, 2116, 1927]\n\n    shape1.landmark_indices = landmarks1\n    shape2.landmark_indices = landmarks2\n\ncolors = [\"red\", \"green\", \"blue\"]\nplotter = pv.Plotter()\nplotter.add_mesh(shape1.to_pyvista(), color=color_1)\nfor i in range(len(shape1.landmark_indices)):\n    plotter.add_points(\n        shape1.landmark_points[i].numpy(),\n        color=colors[i % 3],\n        render_points_as_spheres=True,\n        point_size=25,\n    )\nplotter.add_mesh(shape2.to_pyvista(), color=color_2)\nfor i in range(len(shape2.landmark_indices)):\n    plotter.add_points(\n        shape2.landmark_points[i].numpy(),\n        color=colors[i % 3],\n        render_points_as_spheres=True,\n        point_size=25,\n    )\nplotter.show()"
      ]
    },
    {
      "cell_type": "markdown",
      "metadata": {},
      "source": [
        "## Register again with a loss that includes landmarks\n\nNow the loss is the sum of `NearestNeighborsLoss` and `LandmarkLoss`, the\nmean L2 distance between the landmarks in the two shapes.\n\n"
      ]
    },
    {
      "cell_type": "code",
      "execution_count": null,
      "metadata": {
        "collapsed": false
      },
      "outputs": [],
      "source": [
        "loss_landmarks = sks.NearestNeighborsLoss() + sks.LandmarkLoss()\n\nregistration = sks.Registration(\n    model=model,\n    loss=loss_landmarks,\n    n_iter=2,\n    verbose=True,\n)\n\nregistration.fit(source=shape2, target=shape1)\nmorph = registration.transform(source=shape2)\n\nplotter = pv.Plotter()\nplotter.add_mesh(shape1.to_pyvista(), color=color_1)\nplotter.add_mesh(morph.to_pyvista(), color=color_2)\nplotter.show()"
      ]
    }
  ],
  "metadata": {
    "kernelspec": {
      "display_name": "Python 3",
      "language": "python",
      "name": "python3"
    },
    "language_info": {
      "codemirror_mode": {
        "name": "ipython",
        "version": 3
      },
      "file_extension": ".py",
      "mimetype": "text/x-python",
      "name": "python",
      "nbconvert_exporter": "python",
      "pygments_lexer": "ipython3",
      "version": "3.11.8"
    }
  },
  "nbformat": 4,
  "nbformat_minor": 0
}