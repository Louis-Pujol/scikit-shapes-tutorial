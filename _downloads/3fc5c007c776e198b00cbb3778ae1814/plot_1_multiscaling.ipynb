{
  "cells": [
    {
      "cell_type": "code",
      "execution_count": null,
      "metadata": {
        "collapsed": false
      },
      "outputs": [],
      "source": [
        "%matplotlib inline"
      ]
    },
    {
      "cell_type": "markdown",
      "metadata": {},
      "source": [
        "\n# The `Multiscale` class: representing a shape at different scales\n\nThis notebook describes the `Multscale` class, class for representing a shape at multiple scale and\nconserving signals, landmarks and control points across scales.\n"
      ]
    },
    {
      "cell_type": "markdown",
      "metadata": {},
      "source": [
        "## Load a mesh from pyvista examples\n\nand add landmarks, point_data and control points\n\n"
      ]
    },
    {
      "cell_type": "code",
      "execution_count": null,
      "metadata": {
        "collapsed": false
      },
      "outputs": [],
      "source": [
        "from pyvista import examples\nimport pyvista as pv\nimport skshapes as sks\n# sphinx_gallery_thumbnail_number = 4\n\ncpos = [(0.07817110755919496, 0.13558926405422117, 0.5210700195677971),\n (-0.01684039831161499, 0.11015420686453581, -0.0015369504690170288),\n (-0.26589633341798463, 0.9640005779198042, 0.0014232516134205578)]\n\ncpos_multi = [(0.2445506282736577, 0.20944467997782604, 1.5201061830384905),\n (-0.01684039831161499, 0.11015420686453581, -0.0015369504690170288),\n (-0.41802782922478116, 0.9083476928315267, 0.012538058911154365)]\n\nbunny = sks.PolyData(examples.download_bunny())\nbunny.plot(cpos=cpos)"
      ]
    },
    {
      "cell_type": "code",
      "execution_count": null,
      "metadata": {
        "collapsed": false
      },
      "outputs": [],
      "source": [
        "if not pv.BUILDING_GALLERY:\n    #\u00a0If not in the gallery, we can use vedo to open the landmark setter\n    #\u00a0Setting the default backend to vtk is necessary when running in a notebook\n    import vedo\n    vedo.settings.default_backend= 'vtk'\n    sks.LandmarkSetter(bunny).start()\nelse:\n    #\u00a0Set the landmarks manually\n    bunny.landmark_indices = [ 4695, 12902,  1368, 13223,  5460, 20809, 12829, 10080, 30769, 27127, 21764, 23356]\n\n\n#\u00a0Add signal to point_data\nbunny.point_data[\"height\"] = bunny.points[:, 1]\n\n#\u00a0Add control points\nbunny.control_points = bunny.bounding_grid(N=10, offset=0.05)\n\n#\u00a0Plot\nplotter = pv.Plotter()\nplotter.add_mesh(bunny.to_pyvista(), scalars=\"height\")\nplotter.add_points(bunny.landmark_points.numpy(), color=\"red\", point_size=10, render_points_as_spheres=True)\nplotter.add_mesh(bunny.control_points.to_pyvista(), color=\"green\", opacity=0.9)\nplotter.camera_position = cpos\nplotter.show()"
      ]
    },
    {
      "cell_type": "markdown",
      "metadata": {},
      "source": [
        "## Create a `Multiscale` object\n\nfrom a collection of ratios. `Multiscale` can also be initialized with `n_points`.\n%%\n\n"
      ]
    },
    {
      "cell_type": "code",
      "execution_count": null,
      "metadata": {
        "collapsed": false
      },
      "outputs": [],
      "source": [
        "ratios = [0.5, 0.1, .01]\nmultimesh = sks.Multiscale(bunny, ratios=ratios)\n\nplotter = pv.Plotter(shape=(1, 4))\nfor i, ratio in enumerate([1] + ratios):\n    plotter.subplot(0, i)\n    plotter.add_mesh(multimesh.at(ratio=ratio).to_pyvista(), color=\"tan\")\n    plotter.add_text(f\"Ratio: {ratio}\\n\\n{multimesh.at(ratio=ratio).n_points} points\", font_size=16)\n    plotter.camera_position = cpos_multi\n\nplotter.show()"
      ]
    },
    {
      "cell_type": "markdown",
      "metadata": {},
      "source": [
        "## Features preservation\n\n- Landmarks are automatically propagated to the different scales\n- Signal can be propagated using a `FineToCoarsePolicy`\n- Control points must be set manually at coarse scales\n\n"
      ]
    },
    {
      "cell_type": "code",
      "execution_count": null,
      "metadata": {
        "collapsed": false
      },
      "outputs": [],
      "source": [
        "policy = sks.FineToCoarsePolicy(reduce=\"mean\")\nmultimesh.propagate(signal_name=\"height\", from_ratio=1)\n\nfor ratio in ratios:\n    multimesh.at(ratio=ratio).control_points = multimesh.at(ratio=1).control_points\n\nplotter = pv.Plotter(shape=(1, 4))\nfor i, ratio in enumerate([1] + ratios):\n    plotter.subplot(0, i)\n    plotter.add_mesh(multimesh.at(ratio=ratio).to_pyvista(), scalars=\"height\")\n    plotter.add_points(multimesh.at(ratio=ratio).landmark_points.numpy(), color=\"red\", point_size=10, render_points_as_spheres=True)\n    plotter.add_mesh(multimesh.at(ratio=ratio).control_points.to_pyvista(), color=\"green\", opacity=0.9)\n    plotter.add_text(f\"Ratio: {ratio}\", font_size=24)\n    plotter.camera_position = cpos_multi\n\nplotter.show()"
      ]
    }
  ],
  "metadata": {
    "kernelspec": {
      "display_name": "Python 3",
      "language": "python",
      "name": "python3"
    },
    "language_info": {
      "codemirror_mode": {
        "name": "ipython",
        "version": 3
      },
      "file_extension": ".py",
      "mimetype": "text/x-python",
      "name": "python",
      "nbconvert_exporter": "python",
      "pygments_lexer": "ipython3",
      "version": "3.11.8"
    }
  },
  "nbformat": 4,
  "nbformat_minor": 0
}