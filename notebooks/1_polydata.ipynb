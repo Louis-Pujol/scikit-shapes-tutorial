{
 "cells": [
  {
   "cell_type": "markdown",
   "metadata": {},
   "source": [
    "The `PolyData` class: point cloud, wireframe and triangle meshes\n",
    "==============================================================\n",
    "\n",
    "This notebook describes the `PolyData` class, the common class for point clouds, wireframe and triangle meshes.\n",
    "\n",
    "- Load and create `PolyData`\n",
    "- Plot `PolyData` with PyVista\n",
    "- Add a signal\n",
    "- Add landmarks\n",
    "- Add control points\n",
    "- Save the object and load it back"
   ]
  },
  {
   "cell_type": "markdown",
   "metadata": {},
   "source": [
    "`PolyData` creation\n",
    "-------------------\n",
    "\n",
    "- from a file\n",
    "- explicitely with `points`, `edges` (optional), `triangles` (optional)\n",
    "- plotting with PyVista"
   ]
  },
  {
   "cell_type": "code",
   "execution_count": 1,
   "metadata": {},
   "outputs": [
    {
     "data": {
      "application/vnd.jupyter.widget-view+json": {
       "model_id": "99f82c579be44539a6c3216993ebfbdb",
       "version_major": 2,
       "version_minor": 0
      },
      "text/plain": [
       "Widget(value='<iframe src=\"http://localhost:37233/index.html?ui=P_0x7fc4f4694130_0&reconnect=auto\" class=\"pyvi…"
      ]
     },
     "metadata": {},
     "output_type": "display_data"
    }
   ],
   "source": [
    "import skshapes as sks\n",
    "import pyvista as pv\n",
    "pv.set_jupyter_backend('trame')\n",
    "\n",
    "cpos = [(-1.6657788922829617, 7.472045340108491, 3.9439767221656665),\n",
    " (0.8380894707515836, -0.003572508692741394, -0.002311795949935913),\n",
    " (0.9587598899863243, 0.2457800580099367, 0.14272924170625823)]\n",
    "\n",
    "\n",
    "# Load a mesh from a .ply file\n",
    "mesh = sks.PolyData(\"../data/scape/mesh044.ply\")\n",
    "\n",
    "# Extract the points, edges and triangles from the mesh\n",
    "points, edges, triangles = mesh.points, mesh.edges, mesh.triangles\n",
    "\n",
    "# Create a point cloud, a wireframe and a surface mesh from the points, edges and triangles\n",
    "points_cloud = sks.PolyData(points=points)\n",
    "wireframe_mesh = sks.PolyData(points=points, edges=edges)\n",
    "surface_mesh = sks.PolyData(points=points, triangles=triangles)\n",
    "\n",
    "# Create a plotter with 3 subplots and display the point cloud, wireframe and surface mesh\n",
    "# PolyData objects can be converted to pyvista objects with the to_pyvista method\n",
    "import pyvista as pv\n",
    "plotter = pv.Plotter(shape=(1, 3), notebook=True)\n",
    "plotter.subplot(0, 0)\n",
    "plotter.add_text(\"Points cloud\", font_size=24)\n",
    "plotter.add_mesh(points_cloud.to_pyvista(), color=\"red\", render_points_as_spheres=True)\n",
    "plotter.camera_position = cpos\n",
    "plotter.subplot(0, 1)\n",
    "plotter.add_text(\"Wireframe\", font_size=24)\n",
    "plotter.add_mesh(wireframe_mesh.to_pyvista(), color=\"k\", line_width=2)\n",
    "plotter.camera_position = cpos\n",
    "plotter.subplot(0, 2)\n",
    "plotter.add_text(\"Triangle mesh\", font_size=24)\n",
    "plotter.add_mesh(surface_mesh.to_pyvista(), color=\"tan\")\n",
    "plotter.camera_position = cpos\n",
    "plotter.show(jupyter_backend=\"trame\")"
   ]
  },
  {
   "cell_type": "markdown",
   "metadata": {},
   "source": [
    "Add signals to the `PolyData`\n",
    "----------------------------\n",
    "\n",
    "- Signals can be added to the PolyData object through `point_data`, `edge_data` or `triangle_data`.\n",
    "- The size of the array in the first dimension is expected to match `n_points`, `n_edges` or`n_triangles`."
   ]
  },
  {
   "cell_type": "code",
   "execution_count": 2,
   "metadata": {},
   "outputs": [
    {
     "name": "stdout",
     "output_type": "stream",
     "text": [
      "Triangle_data:\n",
      "DataAttributes Object with attributes:\n",
      "- signal_triangles: torch.Size([250, 3]), torch.float32\n",
      "- centers: torch.Size([250, 3]), torch.float32\n",
      "- areas: torch.Size([250]), torch.float32\n",
      "Number of elements: 250\n",
      "Device: cpu\n",
      "\n"
     ]
    },
    {
     "data": {
      "application/vnd.jupyter.widget-view+json": {
       "model_id": "29dae6b84c3c4a8fbd62400b53f5c798",
       "version_major": 2,
       "version_minor": 0
      },
      "text/plain": [
       "Widget(value='<iframe src=\"http://localhost:37233/index.html?ui=P_0x7fc4f66f7790_1&reconnect=auto\" class=\"pyvi…"
      ]
     },
     "metadata": {},
     "output_type": "display_data"
    }
   ],
   "source": [
    "import torch\n",
    "\n",
    "# Add some user-defined data to the mesh\n",
    "surface_mesh.triangle_data[\"signal_triangles\"] = torch.rand(surface_mesh.n_triangles, 3)\n",
    "surface_mesh.edge_data[\"signal_edges\"] = torch.rand(surface_mesh.n_edges, 3, 3)\n",
    "surface_mesh.point_data[\"signal_points\"] = surface_mesh.points[:, 0]\n",
    "\n",
    "# Some features are already available in the mesh object\n",
    "surface_mesh.triangle_data[\"centers\"] = surface_mesh.triangle_centers\n",
    "surface_mesh.triangle_data[\"areas\"] = surface_mesh.triangle_areas\n",
    "surface_mesh.edge_data[\"centers\"] = surface_mesh.edge_centers\n",
    "surface_mesh.edge_data[\"lengths\"] = surface_mesh.edge_lengths\n",
    "\n",
    "# Call the plot method display information about the signal data (size, type, device)\n",
    "print(\"Triangle_data:\")\n",
    "print(surface_mesh.triangle_data)\n",
    "\n",
    "# Point_data can be used in the plot method to color the surface mesh\n",
    "surface_mesh.plot(scalars=\"signal_points\", cpos=cpos)"
   ]
  },
  {
   "cell_type": "markdown",
   "metadata": {},
   "source": [
    "Add landmarks to the `PolyData`\n",
    "===============================\n",
    "\n",
    "- Landmarks are distinguished points of the `PolyData`\n",
    "- They can be selected via an interactive application (using vedo)\n",
    "- Landmarks can be accessed as `(n_landmarks, 3)` tensors or list of indices"
   ]
  },
  {
   "cell_type": "code",
   "execution_count": 3,
   "metadata": {},
   "outputs": [
    {
     "data": {
      "application/vnd.jupyter.widget-view+json": {
       "model_id": "f0c204b676a246d7975ee305e6561cc1",
       "version_major": 2,
       "version_minor": 0
      },
      "text/plain": [
       "Widget(value='<iframe src=\"http://localhost:37233/index.html?ui=P_0x7fc4f4695480_2&reconnect=auto\" class=\"pyvi…"
      ]
     },
     "metadata": {},
     "output_type": "display_data"
    }
   ],
   "source": [
    "if not pv.BUILDING_GALLERY:\n",
    "    # If not in the gallery, we can use vedo to open the landmark setter\n",
    "    # Setting the default backend to vtk is necessary when running in a notebook\n",
    "    import vedo\n",
    "    vedo.settings.default_backend= 'vtk'\n",
    "    sks.LandmarkSetter(surface_mesh).start()\n",
    "else:\n",
    "    # Set the landmarks manually\n",
    "    surface_mesh.landmark_indices = [122,  82,  89,  28,  27]\n",
    "\n",
    "plotter = pv.Plotter()\n",
    "plotter.add_mesh(surface_mesh.to_pyvista(), color=\"tan\")\n",
    "plotter.add_points(surface_mesh.landmark_points.numpy(), color=\"red\", point_size=10, render_points_as_spheres=True)\n",
    "plotter.camera_position = cpos\n",
    "plotter.add_title(f\"Landmarks : {surface_mesh.landmark_indices}\")\n",
    "plotter.show()"
   ]
  },
  {
   "cell_type": "markdown",
   "metadata": {},
   "source": [
    "Control points\n",
    "==============\n",
    "\n",
    "- Control points are represented by another `PolyData`, attached to the first\n",
    "- The `bounding_grid` method offers a standard way to define control points as regular grids"
   ]
  },
  {
   "cell_type": "code",
   "execution_count": 4,
   "metadata": {},
   "outputs": [
    {
     "data": {
      "application/vnd.jupyter.widget-view+json": {
       "model_id": "011ac2433f92444f889b2bc7423e7469",
       "version_major": 2,
       "version_minor": 0
      },
      "text/plain": [
       "Widget(value='<iframe src=\"http://localhost:37233/index.html?ui=P_0x7fc4f88a5f90_3&reconnect=auto\" class=\"pyvi…"
      ]
     },
     "metadata": {},
     "output_type": "display_data"
    }
   ],
   "source": [
    "surface_mesh.control_points = surface_mesh.bounding_grid(N=10, offset=0.05)\n",
    "\n",
    "plotter = pv.Plotter()\n",
    "plotter.add_mesh(surface_mesh.to_pyvista(), color=\"tan\")\n",
    "plotter.add_mesh(surface_mesh.control_points.to_pyvista(), color=\"green\", opacity=0.9)\n",
    "plotter.camera_position = cpos\n",
    "plotter.show()"
   ]
  },
  {
   "cell_type": "markdown",
   "metadata": {},
   "source": [
    "Save and load\n",
    "=============\n",
    "\n",
    "- `PolyData` can be saved to the disk\n",
    "- If the file format is `.vtk`, signals and landmarks persist when loaded back\n",
    "- it is also possible to save in `.stl` or `.obj` but signals/landmarks will be lost\n",
    "- Control points must be saved separately"
   ]
  },
  {
   "cell_type": "code",
   "execution_count": 5,
   "metadata": {},
   "outputs": [
    {
     "data": {
      "application/vnd.jupyter.widget-view+json": {
       "model_id": "fc7e265db403436db930a6f9ec8d0f51",
       "version_major": 2,
       "version_minor": 0
      },
      "text/plain": [
       "Widget(value='<iframe src=\"http://localhost:37233/index.html?ui=P_0x7fc4f88a49d0_4&reconnect=auto\" class=\"pyvi…"
      ]
     },
     "metadata": {},
     "output_type": "display_data"
    },
    {
     "name": "stdout",
     "output_type": "stream",
     "text": [
      "Triangle_data:\n",
      "DataAttributes Object with attributes:\n",
      "- signal_triangles: torch.Size([250, 3]), torch.float32\n",
      "- centers: torch.Size([250, 3]), torch.float32\n",
      "- areas: torch.Size([250]), torch.float32\n",
      "Number of elements: 250\n",
      "Device: cpu\n",
      "\n"
     ]
    }
   ],
   "source": [
    "extension = \".vtk\"\n",
    "\n",
    "import os\n",
    "filename_mesh = \"tmp\" + extension\n",
    "filename_control_points = \"tmp_control_points\" + extension\n",
    "\n",
    "surface_mesh.save(filename_mesh)\n",
    "surface_mesh.control_points.save(filename_control_points)\n",
    "\n",
    "loaded_mesh = sks.PolyData(filename_mesh)\n",
    "loaded_mesh.control_points = sks.PolyData(filename_control_points)\n",
    "\n",
    "plotter = pv.Plotter()\n",
    "plotter.add_mesh(loaded_mesh.to_pyvista(), scalars=\"signal_points\", cmap=\"viridis\")\n",
    "plotter.add_points(loaded_mesh.landmark_points.numpy(), color=\"red\", point_size=10, render_points_as_spheres=True)\n",
    "plotter.add_mesh(loaded_mesh.control_points.to_pyvista(), color=\"green\", opacity=0.9)\n",
    "plotter.camera_position = cpos\n",
    "plotter.add_title(f\"Landmarks : {loaded_mesh.landmark_indices}\")\n",
    "plotter.show()\n",
    "\n",
    "print(\"Triangle_data:\")\n",
    "print(loaded_mesh.triangle_data)\n",
    "\n",
    "os.remove(filename_mesh)\n",
    "os.remove(filename_control_points)\n"
   ]
  }
 ],
 "metadata": {
  "kernelspec": {
   "display_name": "python3.10",
   "language": "python",
   "name": "python3"
  },
  "language_info": {
   "codemirror_mode": {
    "name": "ipython",
    "version": 3
   },
   "file_extension": ".py",
   "mimetype": "text/x-python",
   "name": "python",
   "nbconvert_exporter": "python",
   "pygments_lexer": "ipython3",
   "version": "3.10.13"
  }
 },
 "nbformat": 4,
 "nbformat_minor": 2
}
