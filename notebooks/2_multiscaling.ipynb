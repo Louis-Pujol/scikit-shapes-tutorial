{
 "cells": [
  {
   "cell_type": "markdown",
   "metadata": {},
   "source": [
    "Test\n",
    "====\n",
    "\n",
    "This is a test"
   ]
  },
  {
   "cell_type": "code",
   "execution_count": 1,
   "metadata": {},
   "outputs": [
    {
     "data": {
      "application/vnd.jupyter.widget-view+json": {
       "model_id": "0f2be59e28794ceb95e4857409ace06f",
       "version_major": 2,
       "version_minor": 0
      },
      "text/plain": [
       "Widget(value='<iframe src=\"http://localhost:38121/index.html?ui=P_0x7f76484f2fe0_0&reconnect=auto\" class=\"pyvi…"
      ]
     },
     "metadata": {},
     "output_type": "display_data"
    }
   ],
   "source": [
    "from pyvista import examples\n",
    "import pyvista as pv\n",
    "import skshapes as sks\n",
    "\n",
    "import vedo\n",
    "vedo.settings.default_backend= 'vtk'\n",
    "\n",
    "bunny = sks.PolyData(examples.download_bunny())\n",
    "\n",
    "bunny.plot()"
   ]
  },
  {
   "cell_type": "code",
   "execution_count": 3,
   "metadata": {},
   "outputs": [
    {
     "data": {
      "application/vnd.jupyter.widget-view+json": {
       "model_id": "ca596a619d6f454fab2d4b03c693442a",
       "version_major": 2,
       "version_minor": 0
      },
      "text/plain": [
       "Widget(value='<iframe src=\"http://localhost:38121/index.html?ui=P_0x7f74cee3c9a0_2&reconnect=auto\" class=\"pyvi…"
      ]
     },
     "metadata": {},
     "output_type": "display_data"
    },
    {
     "ename": "TypeError",
     "evalue": "'CameraPosition' object is not callable",
     "output_type": "error",
     "traceback": [
      "\u001b[0;31m---------------------------------------------------------------------------\u001b[0m",
      "\u001b[0;31mTypeError\u001b[0m                                 Traceback (most recent call last)",
      "Cell \u001b[0;32mIn[3], line 27\u001b[0m\n\u001b[1;32m     24\u001b[0m plotter\u001b[38;5;241m.\u001b[39madd_mesh(bunny\u001b[38;5;241m.\u001b[39mcontrol_points\u001b[38;5;241m.\u001b[39mto_pyvista(), color\u001b[38;5;241m=\u001b[39m\u001b[38;5;124m\"\u001b[39m\u001b[38;5;124mgreen\u001b[39m\u001b[38;5;124m\"\u001b[39m, opacity\u001b[38;5;241m=\u001b[39m\u001b[38;5;241m0.9\u001b[39m)\n\u001b[1;32m     25\u001b[0m plotter\u001b[38;5;241m.\u001b[39mshow()\n\u001b[0;32m---> 27\u001b[0m \u001b[38;5;28mprint\u001b[39m(\u001b[43mplotter\u001b[49m\u001b[38;5;241;43m.\u001b[39;49m\u001b[43mcamera_position\u001b[49m\u001b[43m(\u001b[49m\u001b[43m)\u001b[49m)\n",
      "\u001b[0;31mTypeError\u001b[0m: 'CameraPosition' object is not callable"
     ]
    }
   ],
   "source": [
    "if not pv.BUILDING_GALLERY:\n",
    "    # If not in the gallery, we can use vedo to open the landmark setter\n",
    "    # Setting the default backend to vtk is necessary when running in a notebook\n",
    "    import vedo\n",
    "    vedo.settings.default_backend= 'vtk'\n",
    "    sks.LandmarkSetter(bunny).start()\n",
    "else:\n",
    "    # Set the landmarks manually\n",
    "    bunny.landmark_indices = [ 4695, 12902,  1368, 13223,  5460, 20809, 12829, 10080, 30769, 27127, 21764, 23356]\n",
    "\n",
    "# Add landmarks\n",
    "# sks.LandmarkSetter(bunny).start()\n",
    "\n",
    "# Add signal\n",
    "bunny.point_data[\"height\"] = bunny.points[:, 1]\n",
    "\n",
    "# Add control points\n",
    "bunny.control_points = bunny.bounding_grid(N=10, offset=0.05)\n",
    "\n",
    "# Plot\n",
    "plotter = pv.Plotter()\n",
    "plotter.add_mesh(bunny.to_pyvista(), scalars=\"height\")\n",
    "plotter.add_points(bunny.landmark_points.numpy(), color=\"red\", point_size=10, render_points_as_spheres=True)\n",
    "plotter.add_mesh(bunny.control_points.to_pyvista(), color=\"green\", opacity=0.9)\n",
    "plotter.show()\n",
    "\n",
    "print(plotter.camera_position)"
   ]
  },
  {
   "cell_type": "code",
   "execution_count": 3,
   "metadata": {},
   "outputs": [
    {
     "data": {
      "application/vnd.jupyter.widget-view+json": {
       "model_id": "4d6ec99cf7fd4584b81c66913be474ce",
       "version_major": 2,
       "version_minor": 0
      },
      "text/plain": [
       "Widget(value='<iframe src=\"http://localhost:35901/index.html?ui=P_0x7f267dd869b0_2&reconnect=auto\" class=\"pyvi…"
      ]
     },
     "metadata": {},
     "output_type": "display_data"
    }
   ],
   "source": [
    "ratios = [0.5, 0.1, .01]\n",
    "multimesh = sks.Multiscale(bunny, ratios=ratios)\n",
    "\n",
    "plotter = pv.Plotter(shape=(1, 4))\n",
    "for i, ratio in enumerate([1] + ratios):\n",
    "    plotter.subplot(0, i)\n",
    "    plotter.add_mesh(multimesh.at(ratio=ratio).to_pyvista(), color=\"tan\")\n",
    "    plotter.add_text(f\"Ratio: {ratio}\\n\\n{multimesh.at(ratio=ratio).n_points} points\", font_size=16)\n",
    "\n",
    "plotter.show()"
   ]
  },
  {
   "cell_type": "code",
   "execution_count": 4,
   "metadata": {},
   "outputs": [
    {
     "data": {
      "application/vnd.jupyter.widget-view+json": {
       "model_id": "7f20760e9eba4345a12b4f9f63f97679",
       "version_major": 2,
       "version_minor": 0
      },
      "text/plain": [
       "Widget(value='<iframe src=\"http://localhost:35901/index.html?ui=P_0x7f27f854faf0_3&reconnect=auto\" class=\"pyvi…"
      ]
     },
     "metadata": {},
     "output_type": "display_data"
    }
   ],
   "source": [
    "policy = sks.FineToCoarsePolicy(reduce=\"mean\")\n",
    "multimesh.propagate(signal_name=\"height\", from_ratio=1)\n",
    "\n",
    "for ratio in ratios:\n",
    "    multimesh.at(ratio=ratio).control_points = multimesh.at(ratio=1).control_points\n",
    "\n",
    "plotter = pv.Plotter(shape=(1, 4))\n",
    "for i, ratio in enumerate([1] + ratios):\n",
    "    plotter.subplot(0, i)\n",
    "    plotter.add_mesh(multimesh.at(ratio=ratio).to_pyvista(), scalars=\"height\")\n",
    "    plotter.add_points(multimesh.at(ratio=ratio).landmark_points.numpy(), color=\"red\", point_size=10, render_points_as_spheres=True)\n",
    "    plotter.add_mesh(multimesh.at(ratio=ratio).control_points.to_pyvista(), color=\"green\", opacity=0.9)\n",
    "    plotter.add_text(f\"Ratio: {ratio}\", font_size=24)\n",
    "\n",
    "plotter.show()"
   ]
  }
 ],
 "metadata": {
  "kernelspec": {
   "display_name": "python3.10",
   "language": "python",
   "name": "python3"
  },
  "language_info": {
   "codemirror_mode": {
    "name": "ipython",
    "version": 3
   },
   "file_extension": ".py",
   "mimetype": "text/x-python",
   "name": "python",
   "nbconvert_exporter": "python",
   "pygments_lexer": "ipython3",
   "version": "3.10.13"
  }
 },
 "nbformat": 4,
 "nbformat_minor": 2
}
